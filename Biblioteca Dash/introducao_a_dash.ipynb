{
 "cells": [
  {
   "cell_type": "markdown",
   "metadata": {
    "colab_type": "text",
    "id": "EG-gmN9XfduE"
   },
   "source": [
    "# **Introdução a Biblioteca Dash**\n",
    "\n",
    "***"
   ]
  },
  {
   "cell_type": "markdown",
   "metadata": {
    "colab_type": "text",
    "id": "ICG7wheNjLR4"
   },
   "source": [
    "## **Introdução**\n",
    "***\n",
    "O objetivo deste material é introduzir e servir como guia rápido para a utilização da biblioteca Dash em Python. Dessa forma, esse material teve como base para a sua construção a documentação disponivel na internet.\n",
    "\n",
    "Acesse a site [Dash](https://plotly.com/dash/).\n",
    "\n",
    "Acesse a documentação completa clicando [aqui](https://dash.plotly.com/introduction).\n",
    "\n"
   ]
  },
  {
   "cell_type": "markdown",
   "metadata": {
    "colab_type": "text",
    "id": "sZQx32xvxR8N"
   },
   "source": [
    "### **Algumas vantagens da biblioteca Dash**\n",
    "Dash é uma ferramenta indispensável para a visualização de dados por meio da construção de uma aplicação na internet com a biblioteca plotly.py.\n",
    "  * É escrita em cima de plotly.js, Flask e React.js (Foi desenvolvida por Plotly)\n",
    "  * Dash é simples o bastante para construir aplicações de forma rápida\n",
    "    * Possibilita a manipulação de dados e apresentação desses de forma simultânea\n",
    "  * Renderizado no seu navegador da web (independente de qual seja o navegador)\n",
    "  * Biblioteca código aberto ([Acesse o repositório no GitHub](https://github.com/plotly/dash))\n",
    "  * Sem HTML ou JavaScript, o Dash possibilita criar interfaces em Python com inúmeros componentes interativos  "
   ]
  },
  {
   "cell_type": "markdown",
   "metadata": {
    "colab_type": "text",
    "id": "erSSYzsWitW-"
   },
   "source": [
    "## **Instalação**\n",
    "\n",
    "Acesse o vídeo no YouTube clicando [aqui](https://youtu.be/CjhlN4UZc3I).\n",
    "\n",
    "  * Com o seu terminal/prompt de comando aberto, escreva o seguinte código para instalação:\n",
    "  > `pip install dash==1.17.0`\n",
    "    * versão atualizada em 2020-10-29\n",
    "  * Dash automaticamente instala os seguintes pacotes:\n",
    "    * `dash-renderer`\n",
    "        * versão 1.8.3\n",
    "    * `dash-core-components`\n",
    "        * versão 1.13.0\n",
    "    * `dash-html-components`\n",
    "        * versão 1.1.1\n",
    "    * `dash-table`\n",
    "        * versão 4.11.0\n",
    "    * `plotly`\n",
    "        * versão 4.12.0\n",
    "  * Para verificar a versão de um pacote:\n",
    "    > `import [nome do pacote]`\n",
    "    >\n",
    "    > `print([nome do pacote].__version__)`"
   ]
  },
  {
   "cell_type": "markdown",
   "metadata": {
    "colab_type": "text",
    "id": "9Ank4fFD5m3f"
   },
   "source": [
    "### **Instalando o pacote Dash**"
   ]
  },
  {
   "cell_type": "code",
   "execution_count": null,
   "metadata": {
    "colab": {},
    "colab_type": "code",
    "id": "SFzJudO_5OCw"
   },
   "outputs": [],
   "source": [
    "pip install dash==1.17.0"
   ]
  },
  {
   "cell_type": "markdown",
   "metadata": {},
   "source": [
    "**Obs.:** Para verificar se os outros pacotes foram instalados automaticamente, no seu terminal, reproduza\n",
    "`pip list` ou `pip freeze` e busque pelos seus nomes."
   ]
  },
  {
   "cell_type": "markdown",
   "metadata": {},
   "source": [
    "### **Verificando a versão**"
   ]
  },
  {
   "cell_type": "code",
   "execution_count": null,
   "metadata": {},
   "outputs": [],
   "source": [
    "import dash\n",
    "print(dash.__version__)"
   ]
  },
  {
   "source": [
    "**Aconselho você a verificar a versão dos pacotes instalados para que você sempre esteja trabalhando com a versão mais atualizada da Biblioteca Dash e as demais instaladas automaticamente.**"
   ],
   "cell_type": "markdown",
   "metadata": {}
  },
  {
   "cell_type": "markdown",
   "metadata": {
    "colab_type": "text",
    "id": "F_Dw5wq9x_7z"
   },
   "source": [
    "## **Layout**\n",
    "***\n",
    "O layout é um componente fundamental das aplicações com a biblioteca Dash em Python. Ele é quem descreve como a aplicação se apresentará, ou seja, compreende a construção visual da aplicação web desde a parte estética até a organização dos componentes.\n",
    "\n",
    "Para construir a parte visual da aplicação, é disponível um conjunto de componentes com as bibliotecas `dash_core_components` e `dash_html_components`.\n",
    "\n",
    "Encontre mais exemplos em [Layout](https://dash.plotly.com/layout).\n",
    "\n",
    "Acesse o vídeo no YouTube clicando [aqui](https://youtu.be/S3xXAKBicPE)."
   ]
  },
  {
   "cell_type": "markdown",
   "metadata": {
    "colab_type": "text",
    "id": "Y03_2vlOuSay"
   },
   "source": [
    "***\n",
    "### **Primeiro Exemplo - `Exemplo_1.py`**\n",
    "O código desenvolvido e comentado está na pasta [codigos_videos](https://github.com/Miguel-mmf/Biblioteca_Dash_em_Python/tree/main/codigos_videos) nesse repositório.\n",
    "***\n",
    "#### **Importando os módulos necessários**"
   ]
  },
  {
   "cell_type": "code",
   "execution_count": null,
   "metadata": {
    "colab": {},
    "colab_type": "code",
    "id": "BU_-pPOD3m7z"
   },
   "outputs": [],
   "source": [
    "import dash\n",
    "import dash_core_components as dcc\n",
    "import dash_html_components as html"
   ]
  },
  {
   "cell_type": "markdown",
   "metadata": {
    "colab_type": "text",
    "id": "-TcHCV9RWjlH"
   },
   "source": [
    "#### **Ajustando o tipo de fonte usando CSS para modificar o padrão dos elementos utilizados e criando o aplicativo com a função `Dash()` da biblioteca Dash.**"
   ]
  },
  {
   "cell_type": "code",
   "execution_count": null,
   "metadata": {
    "colab": {},
    "colab_type": "code",
    "id": "5bLf0YAd52Oe"
   },
   "outputs": [],
   "source": [
    "external_stylesheets = ['https://codepen.io/chriddyp/pen/bWLwgP.css']\n",
    "\n",
    "app = dash.Dash(__name__, external_stylesheets=external_stylesheets)"
   ]
  },
  {
   "cell_type": "markdown",
   "metadata": {
    "colab_type": "text",
    "id": "hlnVBCv-X4vi"
   },
   "source": [
    "#### **O layout é composto por 4 elementos, ou seja, elementos do tipo `html.Div`, `html.H1` e `dcc.Graph`**."
   ]
  },
  {
   "cell_type": "code",
   "execution_count": null,
   "metadata": {
    "colab": {},
    "colab_type": "code",
    "id": "f_R4hWsE588H"
   },
   "outputs": [],
   "source": [
    "app.layout = html.Div(\n",
    "    children=[\n",
    "\n",
    "        html.H1(\n",
    "            children='Apresentação da biblioteca Dash!'),\n",
    "\n",
    "        html.Div(\n",
    "            children='''\n",
    "                Dash: Aplicação na internet para Python.\n",
    "            '''\n",
    "        ),\n",
    "\n",
    "        dcc.Graph(\n",
    "            id='example-graph',\n",
    "            figure={\n",
    "                'data':[\n",
    "                    {'x':[0,1,2,3,4,5,6],'y':[0,1,2,3,4,5,6],'type':'line+markers','name':'Reta'},\n",
    "                    {'x':[0,1,2,3,4,5,6],'y':[0,1,4,9,16,25,36],'type':'line+markers','name':'Parábola'}\n",
    "                ],\n",
    "                'layout':{\n",
    "                    'title':'Gráfico Exemplo'\n",
    "                }\n",
    "            }\n",
    "        ) \n",
    "    ]\n",
    ")"
   ]
  },
  {
   "cell_type": "markdown",
   "metadata": {
    "colab_type": "text",
    "id": "DDv3JSh3YCvp"
   },
   "source": [
    "No Dash já é incluso o `hot-reloading`, ou seja, graças ao\n",
    "> `app.run_server(debug=True)`\n",
    "\n",
    "a aplicação será autualizada automáticamente assim que alguma modificação seja feita.\n",
    "Caso não queira que a página no navegador seja atualizada sempre que for feita uma modificação no código fonte, utilize\n",
    "> `app.run_server(dev_tools_hot_reload = False)`\n",
    "\n",
    "Entenda mais sobre no tópico [Dash Dev Tools](https://dash.plotly.com/devtools)."
   ]
  },
  {
   "source": [
    "**Servindo a aplicação em dash como versão para teste**"
   ],
   "cell_type": "markdown",
   "metadata": {}
  },
  {
   "cell_type": "code",
   "execution_count": null,
   "metadata": {
    "colab": {},
    "colab_type": "code",
    "id": "WeQGMQt96C-n"
   },
   "outputs": [],
   "source": [
    "if __name__ == '__main__':\n",
    "    app.run_server(debug=True, port=1, use_reloader = False)\n",
    "\n",
    "# port=1 irá servir a aplicação na porta 1, a qual por padrão é a porta 8050"
   ]
  },
  {
   "cell_type": "markdown",
   "metadata": {
    "colab_type": "text",
    "id": "5R0DnnCkegkf"
   },
   "source": [
    "O exemplo acima deve ser salvo como um arquivo Python (extensão \".py\") e ser executado usando\n",
    "\n",
    "> `python [nome do arquivo].py`.\n",
    "\n",
    "Para utilizar os exemplos desse material com o Jupyter Notebook, acesse [Introducing JupyterDash](https://medium.com/plotly/introducing-jupyterdash-811f1f57c02e) ou você pode desativar o seguinte parametro:\n",
    "\n",
    ">`app.run_server(debug = True, use_reloader = False)`."
   ]
  },
  {
   "source": [
    "***\n",
    "### Acesse o vídeo **Exemplo de Página com a Biblioteca Dash** no YouTube clicando [aqui](https://youtu.be/Xff2GEpcawQ).\n",
    "***"
   ],
   "cell_type": "markdown",
   "metadata": {}
  },
  {
   "cell_type": "markdown",
   "metadata": {
    "colab_type": "text",
    "id": "oS4H02gX1eSY"
   },
   "source": [
    "## **CallBack**\n",
    "***\n",
    "CallBack é uma função de chamada que compõe as aplicações com Dash. Essa é responsável por deixar a aplicação interativa e promover a atualização automática de funções assim que as propriedades de entrada (*input*) a essas são alteradas.\n",
    "\n",
    "Em qualquer atributo, seja ele criado com `dash_core_components` ou `dash_html_components`, os parametos criados são do tipo `style`, `className`, `id` e etc. Esses parâmetros, especialmente o parametro `id`, axiliam a callback uma vez que identifica um certo componente (não é possível ter um mesmo `id` para dois componentes).\n",
    "\n",
    "Encontre mais exemplos sobre callback em [Basic CallBacks](https://dash.plotly.com/basic-callbacks).\n",
    "\n",
    "Acesse o vídeo no YouTube clicando [aqui](https://youtu.be/Xff2GEpcawQ)."
   ]
  },
  {
   "cell_type": "markdown",
   "metadata": {
    "colab_type": "text",
    "id": "TEKWbQX3upi9"
   },
   "source": [
    "***\n",
    "### **Segundo Exemplo - `Exemplo_2.py`**\n",
    "O código desenvolvido e comentado está na pasta [codigos_videos](https://github.com/Miguel-mmf/Biblioteca_Dash_em_Python/tree/main/codigos_videos) nesse repositório.\n",
    "***\n",
    "\n",
    "Para esse exemplo, foram utilizados os seguintes componentes:\n",
    "* `dcc.Tabs`\n",
    "* `dcc.Tab`\n",
    "* `go.Scatter` e `go.Bar` da biblioteca `plotly.graph_objects`, funções muito utilizadas para visualização de dados em gráfico.\n"
   ]
  },
  {
   "cell_type": "markdown",
   "metadata": {
    "colab_type": "text",
    "id": "eheY5sSintIR"
   },
   "source": [
    "#### **Importando os módulos necessários**"
   ]
  },
  {
   "cell_type": "code",
   "execution_count": null,
   "metadata": {
    "colab": {},
    "colab_type": "code",
    "id": "mDLwmLrHigfn"
   },
   "outputs": [],
   "source": [
    "import dash\n",
    "import dash_core_components as dcc\n",
    "import dash_html_components as html\n",
    "from dash.dependencies import Input, Output\n",
    "\n",
    "import plotly.graph_objects as go"
   ]
  },
  {
   "cell_type": "markdown",
   "metadata": {
    "colab_type": "text",
    "id": "dfHe3HCTpYSQ"
   },
   "source": [
    "#### **Ajustando o tipo de fonte usando CSS para modificar o padrão dos elementos utilizados e criando o aplicativo com a função `Dash()` da biblioteca Dash.**"
   ]
  },
  {
   "cell_type": "code",
   "execution_count": null,
   "metadata": {
    "colab": {},
    "colab_type": "code",
    "id": "FGT0g4D_pbW3"
   },
   "outputs": [],
   "source": [
    "external_stylesheets = ['https://codepen.io/chriddyp/pen/bWLwgP.css']\n",
    "\n",
    "app2 = dash.Dash(__name__, external_stylesheets=external_stylesheets)"
   ]
  },
  {
   "cell_type": "markdown",
   "metadata": {},
   "source": [
    "Com aplicativos Dash mais complexos que envolvem modificação dinâmica do layout (como [Multi-Page Apps](https://dash.plotly.com/urls)), nem todos os componentes que aparecem em seus retornos de chamada serão incluídos no layout inicial. Você pode remover essa restrição desativando a validação de retorno de chamada:\n",
    "> `app.config.suppress_callback_exceptions = True`\n",
    "\n",
    "Nesse exemplo, todas os componentes aparecem na mesma callback e não utilizamos modificação dinâmica de layout. Portanto, não é necessário suprimir as exceções.\n",
    "\n",
    "#### **Construindo o layout do app2**"
   ]
  },
  {
   "cell_type": "code",
   "execution_count": null,
   "metadata": {
    "colab": {},
    "colab_type": "code",
    "id": "8Hl-1nAVn1xg"
   },
   "outputs": [],
   "source": [
    "app2.layout = html.Div(\n",
    "    [\n",
    "        html.H2(\n",
    "            ['Painel de visualização de gráficos'],\n",
    "            style={\n",
    "                'textAlign':'center',\n",
    "                'font-weight':'bold'\n",
    "                }\n",
    "        ),\n",
    "\n",
    "        html.Hr(),\n",
    "\n",
    "        dcc.Tabs(\n",
    "            id='tabs',\n",
    "            children=[\n",
    "                dcc.Tab(label='Gráfico de linha',value='tab-1'),\n",
    "                dcc.Tab(label='Gráfico de Barra',value='tab-2'),\n",
    "                dcc.Tab(label='Gráfico de Linha e Pontos',value='tab-3')\n",
    "            ]\n",
    "        ),\n",
    "        html.Div(id='tabs-content'),\n",
    "\n",
    "        html.Hr(),\n",
    "    ]\n",
    ")"
   ]
  },
  {
   "cell_type": "markdown",
   "metadata": {},
   "source": [
    "#### **Função de apoio criada para retornar o gráfico gerado em cada aba**"
   ]
  },
  {
   "cell_type": "code",
   "execution_count": null,
   "metadata": {},
   "outputs": [],
   "source": [
    "def gera_grafico(tipo):\n",
    "    \n",
    "    fig = go.Figure()\n",
    "\n",
    "    fig.add_trace(\n",
    "        go.Scatter(\n",
    "            x=[0,1,2,3,4,5,6],\n",
    "            y=[0,1,2,3,4,5,6],\n",
    "            mode=tipo,\n",
    "            name='Reta',\n",
    "            )\n",
    "        )\n",
    "\n",
    "    fig.add_trace(\n",
    "        go.Scatter(\n",
    "            x=[0,1,2,3,4,5,6],\n",
    "            y=[0,1,4,9,16,25,36],\n",
    "            mode=tipo,\n",
    "            name='Parábola',\n",
    "            )\n",
    "        )\n",
    "\n",
    "    fig.update_layout(title='Gráfico Exemplo')\n",
    "    \n",
    "    return fig"
   ]
  },
  {
   "cell_type": "markdown",
   "metadata": {
    "colab_type": "text",
    "id": "2cgZJwwgr3df"
   },
   "source": [
    "#### **Construindo o `@app2.callback()`**"
   ]
  },
  {
   "cell_type": "code",
   "execution_count": null,
   "metadata": {
    "colab": {},
    "colab_type": "code",
    "id": "dutsjNa1sNdA"
   },
   "outputs": [],
   "source": [
    "@app2.callback(\n",
    "    Output('tabs-content','children'),\n",
    "    [\n",
    "        Input('tabs','value')\n",
    "    ]\n",
    ")\n",
    "def update_tab(tab):\n",
    "\n",
    "    if tab == 'tab-1':\n",
    "        return html.Div(\n",
    "            [\n",
    "                dcc.Graph(\n",
    "                    figure = gera_grafico('lines')\n",
    "                )\n",
    "            ]\n",
    "        )\n",
    "\n",
    "    elif tab == 'tab-2':\n",
    "\n",
    "        fig_bar = go.Figure()\n",
    "\n",
    "        fig_bar.add_trace(\n",
    "            go.Bar(\n",
    "                x=[0,1,2,3,4,5,6],\n",
    "                y=[0,1,2,3,4,5,6],\n",
    "                )\n",
    "            )\n",
    "\n",
    "        fig_bar.add_trace(\n",
    "            go.Bar(\n",
    "                x=[0,1,2,3,4,5,6],\n",
    "                y=[0,1,4,9,16,25,36],\n",
    "                )\n",
    "            )\n",
    "        fig_bar.update_layout(title='Gráfico em Barras Exemplo')\n",
    "        \n",
    "        return html.Div(\n",
    "            [\n",
    "                dcc.Graph(\n",
    "                    figure = fig_bar\n",
    "                )\n",
    "            ]\n",
    "        )\n",
    "\n",
    "    elif tab == 'tab-3':\n",
    "        \n",
    "        return html.Div(\n",
    "            [\n",
    "                dcc.Graph(\n",
    "                    figure = gera_grafico('lines+markers')\n",
    "                )\n",
    "            ]\n",
    "        )\n",
    "\n",
    "    else:\n",
    "        return html.Div(\n",
    "            ['Erro 404']\n",
    "        )"
   ]
  },
  {
   "cell_type": "markdown",
   "metadata": {
    "colab_type": "text",
    "id": "pqR24Rszs5JG"
   },
   "source": [
    "#### **`Input` e `Output` são os responsáveis pelas alterações automáticas na interface da aplicação web.**"
   ]
  },
  {
   "source": [
    "**Servindo a aplicação em dash como versão para teste**"
   ],
   "cell_type": "markdown",
   "metadata": {}
  },
  {
   "cell_type": "code",
   "execution_count": null,
   "metadata": {
    "colab": {},
    "colab_type": "code",
    "id": "BLKyu68Us3bO",
    "tags": []
   },
   "outputs": [],
   "source": [
    "if __name__ == \"__main__\":\n",
    "    app2.run_server(debug=True, port=2, use_reloader=False)"
   ]
  },
  {
   "cell_type": "markdown",
   "metadata": {
    "colab_type": "text",
    "id": "4KpcByC3tpTO"
   },
   "source": [
    "O exemplo acima deve ser salvo como um arquivo Python (extensão \".py\") e ser executado usando\n",
    "\n",
    "> `python [nome do arquivo].py`.\n",
    "\n",
    "Para utilizar os exemplos desse material com o Jupyter Notebook, acesse [Introducing JupyterDash](https://medium.com/plotly/introducing-jupyterdash-811f1f57c02e) ou você pode desativar o seguinte parametro:\n",
    "\n",
    ">`app.run_server(debug = True, use_reloader = False)`."
   ]
  },
  {
   "cell_type": "markdown",
   "metadata": {
    "colab_type": "text",
    "id": "aG-PBYpdu8M6"
   },
   "source": [
    "## **Dash Core Components**\n",
    "***\n",
    "Este pacote fornece o pacote principal de componentes React para Dash.\n",
    "\n",
    "Acesse o vídeo no YouTube clicando [aqui](https://youtu.be/q_83OeJNv2k).\n",
    "\n",
    "### **Prévia dos componentes**\n",
    "* [Overview Dash Core Components](https://dash.plotly.com/dash-core-components)"
   ]
  },
  {
   "cell_type": "markdown",
   "metadata": {
    "colab_type": "text",
    "id": "6SJk_DPG1gB9"
   },
   "source": [
    "### **Dropdown**\n",
    "\n",
    "* [Dropdown Examples and Reference](https://dash.plotly.com/dash-core-components/dropdown)"
   ]
  },
  {
   "cell_type": "code",
   "execution_count": null,
   "metadata": {},
   "outputs": [],
   "source": [
    "# estrutura simplificada\n",
    "dcc.Dropdown(\n",
    "        options=[\n",
    "            {\n",
    "                'label': f'Opção {value}', 'value': f'{value}'\n",
    "            }\n",
    "            for value in range(0,10)\n",
    "        ],\n",
    "        value='Opção 1'\n",
    "    ),\n",
    "\n",
    "# estrutura padrão\n",
    "dcc.Dropdown(\n",
    "        options=[\n",
    "            {'label': f'Opção 1', 'value': '1'},\n",
    "            {'label': f'Opção 2', 'value': '2'},\n",
    "            {'label': f'Opção 3', 'value': '3'},\n",
    "        ],\n",
    "        value='Opção 1'\n",
    "    ),"
   ]
  },
  {
   "cell_type": "markdown",
   "metadata": {
    "colab_type": "text",
    "id": "TjwE_9rNzukB"
   },
   "source": [
    "### **Slider**\n",
    "\n",
    "Esse componente funciona como um controle deslizante muito utilizado para gráficos em que é possível aumentar ou diminuir a amplitude de valores de um determinando eixo.\n",
    "* [Slider Examples and Reference](https://dash.plotly.com/dash-core-components/slider)"
   ]
  },
  {
   "cell_type": "code",
   "execution_count": null,
   "metadata": {
    "colab": {},
    "colab_type": "code",
    "id": "dcqvqL-pzzrI"
   },
   "outputs": [],
   "source": [
    "dcc.Slider(\n",
    "    min=-5,\n",
    "    max=10,\n",
    "    step=0.5,\n",
    "    value=-3\n",
    ")  "
   ]
  },
  {
   "cell_type": "markdown",
   "metadata": {
    "colab_type": "text",
    "id": "gO0sce73z8OA"
   },
   "source": [
    "### **RangeSlider**\n",
    "Esse funciona de forma semelhante ao componente acima, porém com o RangeSlider é possível realizar esse controle através das duas extremidades do componente.\n",
    "* [RangeSlider Examples and Reference](https://dash.plotly.com/dash-core-components/rangeslider)."
   ]
  },
  {
   "cell_type": "code",
   "execution_count": null,
   "metadata": {
    "colab": {},
    "colab_type": "code",
    "id": "GT1wfkGf0A_P"
   },
   "outputs": [],
   "source": [
    "dcc.RangeSlider(\n",
    "    count=1,\n",
    "    min=-5,\n",
    "    max=10,\n",
    "    step=0.5,\n",
    "    value=[-3, 7]\n",
    ")"
   ]
  },
  {
   "cell_type": "markdown",
   "metadata": {
    "colab_type": "text",
    "id": "pYaIzyY20E68"
   },
   "source": [
    "### **Input**\n",
    "* [Input Examples and Reference](https://dash.plotly.com/dash-core-components/input)"
   ]
  },
  {
   "cell_type": "code",
   "execution_count": null,
   "metadata": {
    "colab": {},
    "colab_type": "code",
    "id": "TCpTghC_0KAw"
   },
   "outputs": [],
   "source": [
    "dcc.Input(\n",
    "    placeholder='Enter a value...',\n",
    "    type='text',\n",
    "    value=''\n",
    ")  "
   ]
  },
  {
   "cell_type": "markdown",
   "metadata": {
    "colab_type": "text",
    "id": "mlVHlqSM0Nl4"
   },
   "source": [
    "### **Checkboxes**\n",
    "\n",
    "São caixas de seleção em que é possível receber informações.\n",
    "* [dcc.Checklist](https://dash.plotly.com/dash-core-components/checklist)"
   ]
  },
  {
   "cell_type": "code",
   "execution_count": null,
   "metadata": {
    "colab": {},
    "colab_type": "code",
    "id": "MP0j4Kgv0S_H"
   },
   "outputs": [],
   "source": [
    "# estrutura simplificada\n",
    "dcc.Checklist(\n",
    "    options=[\n",
    "        {\n",
    "            'label': f'Opção {value}', 'value': f'{value}'\n",
    "        }\n",
    "        for value in range(0,10)\n",
    "    ],\n",
    "    value='Opção 1'\n",
    ")\n",
    "\n",
    "# estrutura padrão\n",
    "dcc.Checklist(\n",
    "    options=[\n",
    "        {'label': 'New York City', 'value': 'NYC'},\n",
    "        {'label': 'Montréal', 'value': 'MTL'},\n",
    "        {'label': 'San Francisco', 'value': 'SF'}\n",
    "    ],\n",
    "    value=['MTL', 'SF']\n",
    ") "
   ]
  },
  {
   "cell_type": "markdown",
   "metadata": {
    "colab_type": "text",
    "id": "DGkkUeHx0VyS"
   },
   "source": [
    "### **Radio Items**\n",
    "* [dcc.RadioItems Examples & Documentation](https://dash.plotly.com/dash-core-components/radioitems)"
   ]
  },
  {
   "cell_type": "code",
   "execution_count": null,
   "metadata": {
    "colab": {},
    "colab_type": "code",
    "id": "UT2GLOUm0ckc"
   },
   "outputs": [],
   "source": [
    "# estrutura simplificada\n",
    "dcc.RadioItems(\n",
    "    options=[\n",
    "        {\n",
    "            'label': f'Opção {value}', 'value': f'{value}'\n",
    "        }\n",
    "        for value in range(0,10)\n",
    "    ],\n",
    "    value='Opção 1'\n",
    ")\n",
    "\n",
    "# estrutura padrão\n",
    "dcc.RadioItems(\n",
    "    options=[\n",
    "        {'label': 'New York City', 'value': 'NYC'},\n",
    "        {'label': 'Montréal', 'value': 'MTL'},\n",
    "        {'label': 'San Francisco', 'value': 'SF'}\n",
    "    ],\n",
    "    value='MTL'\n",
    ")  "
   ]
  },
  {
   "cell_type": "markdown",
   "metadata": {},
   "source": [
    "### **Graph**\n",
    "\n",
    "O componente `dcc.Graph` compartilha da mesma sintaxe da biblioteca _plotly.py_, ou seja, a construção do que o parâmetro _figure_ recebe é semelhante (data,layout,...).\n",
    "\n",
    "É possível passar as informações do gráfico em forma de dícionário como apresentado abaixo ou atribuindo ao parâmetro _figure_ uma figura já criada com a biblioteca plotly.py.\n",
    "\n",
    "* [dcc.Graph](https://dash.plotly.com/dash-core-components/graph)"
   ]
  },
  {
   "cell_type": "code",
   "execution_count": null,
   "metadata": {},
   "outputs": [],
   "source": [
    "dcc.Graph(\n",
    "    id='example-graph',\n",
    "    figure={\n",
    "        'data':[\n",
    "                {'x':[0,1,2,3,4,5,6],'y':[0,1,2,3,4,5,6],'type':'line+markers','name':'Reta'},\n",
    "                {'x':[0,1,2,3,4,5,6],'y':[0,1,4,9,16,25,36],'type':'line+markers','name':'Parábola'}\n",
    "        ],\n",
    "        'layout':{\n",
    "            'title':'Gráfico Exemplo'\n",
    "        }\n",
    "    }\n",
    ")"
   ]
  },
  {
   "cell_type": "markdown",
   "metadata": {
    "colab_type": "text",
    "id": "L_wQ0b-l0grI"
   },
   "source": [
    "### **Link**\n",
    "\n",
    "* [dcc.Link](https://dash.plotly.com/dash-core-components/link)"
   ]
  },
  {
   "cell_type": "code",
   "execution_count": null,
   "metadata": {
    "colab": {},
    "colab_type": "code",
    "id": "h9Soe_CM0fx5"
   },
   "outputs": [],
   "source": [
    "dcc.Link()"
   ]
  },
  {
   "cell_type": "markdown",
   "metadata": {},
   "source": [
    "***\n",
    "### **Visualização dos Componentes - `dash_core.py`**\n",
    "\n",
    "O código desenvolvido e comentado está na pasta [codigos_videos](https://github.com/Miguel-mmf/Biblioteca_Dash_em_Python/tree/main/codigos_videos) nesse repositório.\n",
    "***"
   ]
  },
  {
   "cell_type": "code",
   "execution_count": null,
   "metadata": {},
   "outputs": [],
   "source": [
    "import dash\n",
    "import dash_core_components as dcc\n",
    "import dash_html_components as html"
   ]
  },
  {
   "cell_type": "code",
   "execution_count": null,
   "metadata": {},
   "outputs": [],
   "source": [
    "external_stylesheets = ['https://codepen.io/chriddyp/pen/bWLwgP.css']\n",
    "\n",
    "app_dash_core_components = dash.Dash(__name__, external_stylesheets=external_stylesheets)"
   ]
  },
  {
   "cell_type": "code",
   "execution_count": null,
   "metadata": {
    "colab": {},
    "colab_type": "code",
    "id": "XuktMJLvzrHI"
   },
   "outputs": [],
   "source": [
    "app_dash_core_components.layout = html.Div(\n",
    "    [\n",
    "        html.H1(\n",
    "            'Dash Core Components',\n",
    "            style={\n",
    "                'textAlign':'center',\n",
    "                'font-weight':'bold'\n",
    "            }\n",
    "        ),\n",
    "\n",
    "        html.Div(\n",
    "            [\n",
    "                html.Hr(),\n",
    "\n",
    "                html.H2(\n",
    "                    ['Componente Dropdown']\n",
    "                ),\n",
    "\n",
    "                dcc.Dropdown(\n",
    "                    options=[\n",
    "                        {\n",
    "                            'label': f'Opção {value}', 'value': f'{value}'\n",
    "                        }\n",
    "                        for value in range(0,10)\n",
    "                    ],\n",
    "                    value='1'\n",
    "                ),\n",
    "\n",
    "                html.Hr(),\n",
    "\n",
    "                html.H2(\n",
    "                    ['Componente Slider']\n",
    "                ),\n",
    "        \n",
    "                dcc.Slider(\n",
    "                    min=-5,\n",
    "                    max=10,\n",
    "                    step=0.5,\n",
    "                    value=-3\n",
    "                ),\n",
    "\n",
    "                html.Hr(),\n",
    "\n",
    "                html.H2(\n",
    "                    ['Componente RangeSlider']\n",
    "                ),\n",
    "\n",
    "                dcc.RangeSlider(\n",
    "                    count=1,\n",
    "                    min=-5,\n",
    "                    max=10,\n",
    "                    step=0.5,\n",
    "                    value=[-3, 7]\n",
    "                ),\n",
    "\n",
    "                html.Hr(),\n",
    "\n",
    "                html.H2(\n",
    "                    ['Componente Input']\n",
    "                ),\n",
    "\n",
    "                dcc.Input(\n",
    "                    placeholder='Insira uma mensagem...',\n",
    "                    type='text',\n",
    "                    value=''\n",
    "                ),\n",
    "                \n",
    "                html.Hr(),\n",
    "                html.H2(\n",
    "                    ['Componente Link']\n",
    "                ),\n",
    "\n",
    "                dcc.Link(),\n",
    "\n",
    "            ],\n",
    "            style={\n",
    "                'margin-left':'10px',\n",
    "                'margin-right':'10px',\n",
    "                'width': '48%',\n",
    "                'display':'inline-block',\n",
    "                'float':'left',\n",
    "                'border': '2px solid lightblue'\n",
    "            }\n",
    "        ),\n",
    "\n",
    "        html.Div(\n",
    "            [\n",
    "                html.Hr(),\n",
    "\n",
    "                html.H2(\n",
    "                    ['Componente Checklist']\n",
    "                ),\n",
    "\n",
    "                dcc.Checklist(\n",
    "                    options=[\n",
    "                        {\n",
    "                            'label': f'Opção {value}', 'value': f'{value}'\n",
    "                        }\n",
    "                    for value in range(1,6)\n",
    "                    ],\n",
    "                    value=['1', '9']\n",
    "                ),\n",
    "\n",
    "                html.Hr(),\n",
    "\n",
    "                html.H2(\n",
    "                    ['Componente RadioItems']\n",
    "                ),\n",
    "\n",
    "                dcc.RadioItems(\n",
    "                    options=[\n",
    "                        {\n",
    "                            'label': f'Opção {value}', 'value': f'{value}'\n",
    "                        }\n",
    "                        for value in range(1,6)\n",
    "                    ],\n",
    "                    value='MTL'\n",
    "                ),\n",
    "\n",
    "                html.Hr(),\n",
    "\n",
    "                html.H2(\n",
    "                    ['Componente Graph']\n",
    "                ),\n",
    "\n",
    "                dcc.Graph(\n",
    "                    id='example-graph',\n",
    "                    figure={\n",
    "                        'data':[\n",
    "                                {'x':[0,1,2,3,4,5,6],'y':[0,1,2,3,4,5,6],'type':'line+markers','name':'Reta'},\n",
    "                                {'x':[0,1,2,3,4,5,6],'y':[0,1,4,9,16,25,36],'type':'line+markers','name':'Parábola'}\n",
    "                        ],\n",
    "                        'layout':{\n",
    "                            'title':'Gráfico Exemplo'\n",
    "                        }\n",
    "                    }\n",
    "                ),\n",
    "            ],\n",
    "            style={\n",
    "                'margin-left':'10px',\n",
    "                'margin-right':'10px',\n",
    "                'width': '48%',\n",
    "                'display':'inline-block',\n",
    "                'float':'right',\n",
    "                'border': '2px solid lightblue'\n",
    "                }\n",
    "        )\n",
    "\n",
    "    ],\n",
    "    style={\n",
    "        'margin-left':'10px',\n",
    "        'margin-right':'10px',\n",
    "        'border': '2px solid lightblue'\n",
    "    }\n",
    ")"
   ]
  },
  {
   "cell_type": "code",
   "execution_count": null,
   "metadata": {
    "tags": []
   },
   "outputs": [],
   "source": [
    "if __name__ == \"__main__\":\n",
    "    app_dash_core_components.run_server(debug=True, port=3, use_reloader=False)"
   ]
  },
  {
   "cell_type": "markdown",
   "metadata": {
    "colab_type": "text",
    "id": "ERN_YijlvEmV"
   },
   "source": [
    "## **Dash HTML Components**\n",
    "***\n",
    "Em vez da escrita em HTML ou de utilizar templates com HTML, você pode construir seu layout usando Python puro para desenvolver as mesmas funções com a biblioteca `dash_html_components`.\n",
    "\n",
    "Acesse o vídeo no YouTube clicando [aqui](https://youtu.be/N49IHkvV9qU).\n",
    "\n",
    "### **Prévia dos componentes**\n",
    "* [Overview Dash HTML Components](https://dash.plotly.com/dash-html-components)"
   ]
  },
  {
   "cell_type": "markdown",
   "metadata": {
    "colab_type": "text",
    "id": "3z8uDeNC4MQv"
   },
   "source": [
    "### **html.Div**\n",
    "\n",
    "* [html.Div](https://dash.plotly.com/dash-html-components/div).\n",
    "\n",
    "É bastante utilizado para alocar outros componentes. Pensando no compontente html.Div como uma caixa, tem-se ele para armazenar algo, ou seja, uma divisão destinada a algo."
   ]
  },
  {
   "cell_type": "code",
   "execution_count": null,
   "metadata": {},
   "outputs": [],
   "source": [
    "html.Div(\n",
    "    children=['Parâmetro principal'],\n",
    "    id='',\n",
    "    className='',\n",
    "    style={},\n",
    "    n_clicks=0, #default\n",
    ")"
   ]
  },
  {
   "cell_type": "markdown",
   "metadata": {},
   "source": []
  },
  {
   "cell_type": "markdown",
   "metadata": {
    "colab_type": "text",
    "id": "D0xg5PdY3Vob"
   },
   "source": [
    "### **html.H1 - html.H2 - html.H3 - html.H4 - html.H5 - html.H6**\n",
    "\n",
    "Para trabalhar com a propriedade *style* e *className* dos componentes hmtl e dcc, esse [site](https://www.w3schools.com/css/default.asp) fornece dicas de CSS, linguagem de marcação utilizada para adicionar estilo em documentos HTML."
   ]
  },
  {
   "cell_type": "code",
   "execution_count": null,
   "metadata": {
    "colab": {},
    "colab_type": "code",
    "id": "RrUxkpM133KG"
   },
   "outputs": [],
   "source": [
    "html.H1(\n",
    "    children=[],\n",
    "    id='',\n",
    "    className='',\n",
    "    style={},\n",
    "    n_clicks=0, #default\n",
    ")"
   ]
  },
  {
   "cell_type": "markdown",
   "metadata": {},
   "source": [
    "#### **html.P**\n",
    "\n",
    "* [html.P]().\n",
    "\n",
    "Elemento paragráfo/bloco indentado do texto."
   ]
  },
  {
   "cell_type": "code",
   "execution_count": null,
   "metadata": {},
   "outputs": [],
   "source": [
    "htlm.P(\n",
    "    children=[],\n",
    "    id='',\n",
    "    className='',\n",
    "    style={}\n",
    ")"
   ]
  },
  {
   "cell_type": "markdown",
   "metadata": {},
   "source": [
    "### **html.Button**\n",
    "\n",
    "* [Button Examples and Reference](https://dash.plotly.com/dash-html-components/button).\n",
    "\n"
   ]
  },
  {
   "cell_type": "code",
   "execution_count": null,
   "metadata": {
    "colab": {},
    "colab_type": "code",
    "id": "U_ZCxcqc4L5V"
   },
   "outputs": [],
   "source": [
    "html.Button(\n",
    "    children=[],\n",
    "    id='',\n",
    "    className='',\n",
    "    n_clicks=0, #default\n",
    "    n_clicks_timestamp= -1, #default\n",
    ")"
   ]
  },
  {
   "cell_type": "markdown",
   "metadata": {
    "colab_type": "text",
    "id": "UQpPvllf4p8l"
   },
   "source": [
    "### **html.Hr**\n",
    "\n",
    "* [html.Hr](https://dash.plotly.com/dash-html-components/hr).\n",
    "\n",
    "Fornece uma linha horizontal.\n",
    "\n",
    "Quando é utilizado `dcc.Markdown`, podemos inserir essa linha com \"***\" ou \"___\" sem a necessidade de inserir um componente `html.Hr()`."
   ]
  },
  {
   "cell_type": "code",
   "execution_count": null,
   "metadata": {
    "colab": {},
    "colab_type": "code",
    "id": "8WrEYi7B4zat"
   },
   "outputs": [],
   "source": [
    "html.Hr(\n",
    "    children=[],\n",
    "    id='',\n",
    "    className='',\n",
    ")"
   ]
  },
  {
   "cell_type": "markdown",
   "metadata": {},
   "source": [
    "#### **html.Table - html.Th - html.Td**\n",
    "\n",
    "De forma semelhante ao que é entregue utilizando a biblioteca Dash Table, com esses componentes utilizados em conjunto é possível construtir quadros para a apresentação de dados em forma de tabela.\n",
    "\n",
    "_Recomendo estudar a biblioteca _dash_table_, pois com ela é fácil de apresentar dados de forma mais interativa e dinâmica._\n",
    "\n",
    "* [html.Table](https://dash.plotly.com/dash-html-components/table)\n",
    "* [html.Th](https://dash.plotly.com/dash-html-components/th)\n",
    "* [html.Td](https://dash.plotly.com/dash-html-components/td)"
   ]
  },
  {
   "cell_type": "code",
   "execution_count": null,
   "metadata": {},
   "outputs": [],
   "source": [
    "html.Table(\n",
    "    [\n",
    "        html.Tr(\n",
    "            [\n",
    "                html.Th('1'),\n",
    "                html.Th('2'),\n",
    "                html.Th('3'),\n",
    "                html.Th('4')\n",
    "            ]\n",
    "        ),\n",
    "        html.Tr(\n",
    "            [\n",
    "                html.Td('a11'),\n",
    "                html.Td('a12'),\n",
    "                html.Td('a13'),\n",
    "                html.Td('a14')\n",
    "            ]\n",
    "        ),\n",
    "        html.Tr(\n",
    "            [\n",
    "                html.Td('a21'),\n",
    "                html.Td('a22'),\n",
    "                html.Td('a23'),\n",
    "                html.Td('a24')\n",
    "            ]\n",
    "        ),\n",
    "    ]\n",
    ")"
   ]
  },
  {
   "cell_type": "markdown",
   "metadata": {},
   "source": [
    "#### Exemplo de função para apresentação de dados de um _dataframe_ em forma de quadro usando componentes do tipo `dash_html_componentes`"
   ]
  },
  {
   "cell_type": "code",
   "execution_count": null,
   "metadata": {},
   "outputs": [],
   "source": [
    "def gera_planilha(dataframe): \n",
    "\n",
    "    return html.Table(\n",
    "        [\n",
    "            # colunas\n",
    "            html.Thead(\n",
    "                html.Tr(\n",
    "                    [\n",
    "                        html.Th(col) for col in dataframe.columns\n",
    "                    ]\n",
    "                )\n",
    "            ),\n",
    "            # dados\n",
    "            html.Tbody(\n",
    "                [\n",
    "                    html.Tr(\n",
    "                        [\n",
    "                            html.Td(\n",
    "                                dataframe.iloc[i][col]\n",
    "                            )\n",
    "                            for col in dataframe.columns\n",
    "                        ]\n",
    "                    )\n",
    "                    for i in range(len(dataframe))\n",
    "                ]\n",
    "            )\n",
    "        ]\n",
    "    )"
   ]
  },
  {
   "cell_type": "markdown",
   "metadata": {
    "colab_type": "text",
    "id": "hbrX2ksjvXK_"
   },
   "source": [
    "## **Dash DataTable**\n",
    "***\n",
    "\n",
    "Dash DataTable é um componente interativo em tabela que serve para visualização e edição de dados com Python.\n",
    "\n",
    "* [Dash DataTable](https://dash.plotly.com/datatable)\n",
    "\n",
    "Acesse o vídeo no YouTube clicando [aqui](https://youtu.be/-6HRKsD36qQ).\n",
    "\n",
    "Para demonstrar a função `dash_table.DataTable()` dessa biblioteca, utilizei o arquivo `sousa_geral_anual.csv` que está dentro da pasta codigos_videos."
   ]
  },
  {
   "cell_type": "markdown",
   "metadata": {},
   "source": [
    "***\n",
    "### Dash DataTable - `Exemplo_3.py`\n",
    "O código desenvolvido e comentado está na pasta [codigos_videos](https://github.com/Miguel-mmf/Biblioteca_Dash_em_Python/tree/main/codigos_videos) nesse repositório.\n",
    "***\n",
    "\n",
    "Para esse exemplo, não foi criada uma função chamada `gera_tabela(df)` com a função de retornar a tabela para a minha aplicação web. Entretanto, deixei uma função abaixo que ao receber um _dataframe_ retorna a tabela com os dados.\n",
    "\n",
    "Links de apoio:\n",
    "* [Dash DataTable - Styling](https://dash.plotly.com/datatable/style).\n",
    "* [Dash DataTable - Interactivity](https://dash.plotly.com/datatable/interactivity).\n",
    "* [Editable DataTable](https://dash.plotly.com/datatable/editable).\n",
    "\n",
    "#### **Importando `dash_table`**"
   ]
  },
  {
   "cell_type": "code",
   "execution_count": null,
   "metadata": {
    "colab": {},
    "colab_type": "code",
    "id": "vzEw3IL1ttFg"
   },
   "outputs": [],
   "source": [
    "import dash\n",
    "import pandas as pd\n",
    "\n",
    "import dash_table"
   ]
  },
  {
   "cell_type": "code",
   "execution_count": null,
   "metadata": {
    "tags": []
   },
   "outputs": [],
   "source": [
    "df = pd.read_csv('sousa_geral_anual.csv')\n",
    "\n",
    "app3 = dash.Dash(__name__)\n",
    "\n",
    "app.layout = html.Div(\n",
    "    [\n",
    "        html.H1('Tabela de dados da cidade de Sousa - PB'),\n",
    "\n",
    "        dash_table.DataTable(\n",
    "\n",
    "            # dados\n",
    "            data= df.to_dict('records'),\n",
    "\n",
    "            # identificação das colunas da planilha\n",
    "            columns=[\n",
    "                {\n",
    "                    'name': col,\n",
    "                    'id': col\n",
    "                }\n",
    "                for col in df.columns\n",
    "            ],\n",
    "\n",
    "        )\n",
    "    ]\n",
    ")  "
   ]
  },
  {
   "cell_type": "code",
   "execution_count": null,
   "metadata": {
    "tags": []
   },
   "outputs": [],
   "source": [
    "if __name__ == '__main__':\n",
    "    app3.run_server(debug=True, use_reloader=False)"
   ]
  },
  {
   "source": [
    "É uma boa prática gerar uma função para retornar o quadro de dados quando a aplicação for redenrizada no navegador."
   ],
   "cell_type": "markdown",
   "metadata": {}
  },
  {
   "cell_type": "code",
   "execution_count": null,
   "metadata": {},
   "outputs": [],
   "source": [
    "def gera_tabela(df):\n",
    "\n",
    "    return dash_table.DataTable(\n",
    "\n",
    "            data = df.to_dict('records'),\n",
    "\n",
    "            columns = [\n",
    "                {\n",
    "                    'name': col, \n",
    "                    'id': col,\n",
    "                } \n",
    "                for col in df.columns\n",
    "            ],\n",
    "\n",
    "            style_cell={\n",
    "                'textAlign': 'center',\n",
    "                'border': '1px solid grey',\n",
    "                'minWidth':'90px',\n",
    "                'width':'125px',\n",
    "                'maxWidth':'160px',\n",
    "                'fontSize':'14',\n",
    "                'font-family':'sans-serif'\n",
    "                },\n",
    "                \n",
    "            style_header={\n",
    "                'backgroundColor': '#ADD8E6',\n",
    "                'fontWeight': 'bold'\n",
    "            },\n",
    "\n",
    "            page_size = 12,\n",
    "\n",
    "            style_table = {\n",
    "                'height':'auto',\n",
    "                'minWidth': '100%',\n",
    "                'overflowX': 'auto',\n",
    "                'border': '2px solid lightgreen',\n",
    "            }\n",
    "        )"
   ]
  },
  {
   "source": [
    "## Construção de um Mini Dashboard com Dash em Python - `aula8_cidade_sousa.py`\n",
    "***"
   ],
   "cell_type": "markdown",
   "metadata": {}
  },
  {
   "source": [
    "Para criação dessa apicação com Dash, utilizei o arquivo `sousa_geral_anual.csv` que está dentro da pasta codigos_videos.\n",
    "\n",
    "Acesse o vídeo no YouTube clicando [aqui](https://youtu.be/5mJvsZa6h5s).\n",
    "\n",
    "O código desenvolvido e comentado está na pasta [codigos_videos](https://github.com/Miguel-mmf/Biblioteca_Dash_em_Python/tree/main/codigos_videos) nesse repositório."
   ],
   "cell_type": "markdown",
   "metadata": {}
  },
  {
   "cell_type": "code",
   "execution_count": null,
   "metadata": {},
   "outputs": [],
   "source": [
    "import dash\n",
    "import dash_table\n",
    "import dash_core_components as dcc\n",
    "import dash_html_components as html\n",
    "from dash.dependencies import Input, Output\n",
    "\n",
    "import pandas as pd"
   ]
  },
  {
   "source": [
    "Funções de Apoio para construção do Layout e para a manipulação dos dados do arquivo `sousa_geral_anual.csv`"
   ],
   "cell_type": "markdown",
   "metadata": {}
  },
  {
   "cell_type": "code",
   "execution_count": null,
   "metadata": {},
   "outputs": [],
   "source": [
    "def gera_tabela(df):\n",
    "\n",
    "    return dash_table.DataTable(\n",
    "\n",
    "            # dados\n",
    "            data = df.to_dict('records'),\n",
    "\n",
    "            # colunas\n",
    "            columns = [\n",
    "                {\n",
    "                    'name': col, \n",
    "                    'id': col,\n",
    "                } \n",
    "                for col in df.columns\n",
    "            ], \n",
    "            \n",
    "            style_cell={\n",
    "                'textAlign': 'center',\n",
    "                'border': '1px solid grey',\n",
    "                'minWidth':'90px',\n",
    "                'width':'125px',\n",
    "                'maxWidth':'160px',\n",
    "                'fontSize':'14',\n",
    "                'font-family':'sans-serif'\n",
    "                },\n",
    "                \n",
    "            style_header={\n",
    "                'backgroundColor': '#8FBC8F',\n",
    "                'fontWeight': 'bold'\n",
    "            },\n",
    "\n",
    "            page_size = 16,\n",
    "\n",
    "            style_table = {\n",
    "                'height':'auto',\n",
    "                'minWidth': '100%',\n",
    "                'overflowX': 'auto',\n",
    "                'border': '2px solid lightgreen',\n",
    "            }\n",
    "        )\n",
    "\n",
    "# essa função está renomeando as colunas de um dataframe pelos nomes presentes na lista\n",
    "def gera_dados_selec(df):\n",
    "    list_colunas = [\n",
    "        'Tempo','Precipitação Média','Umidade a 2m','Umidade Relativa a 2m (%)','Pressão na Superfície (kPa)',\n",
    "        'Média das Temp. a 2m (°C)','Média das Temp. Mínimas a 2m (°C)','Média das Temp. Máximas a 2m (°C)',\n",
    "        'Média das Vel. Mínimas do Vento a 50m (m/s)','Média das Vel. Mínimas do Vento a 10m (m/s)',\n",
    "        'Média das Vel. Máximas do Vento a 50m (m/s)','Média das Vel. Máximas do Vento a 10m (m/s)',\n",
    "        'Média das Vel. do Vento a 50m (m/s)','Média das Vel. do Vento a 10m (m/s)','Temp. Máxima a 2m (°C)',\n",
    "        'Média das Vel. do Vento a 50m (m/s)','Vel. Máxima do Vento a 10m (m/s)','Temp. Mínima a 2m (°C)',\n",
    "         'Vel. Mínima do Vento a 50m (m/s)','Vel. Mínima do Vento a 10m (m/s)','Precipitação Acumulada'\n",
    "    ]\n",
    "    df.columns = map(lambda x: x.title(),list_colunas)\n",
    "\n",
    "    return df\n",
    "\n",
    "# criando o cabeçalho para facilitar na construção do layout\n",
    "def div_topo():\n",
    "    return html.Div(\n",
    "        children=[\n",
    "            html.H2(\n",
    "                'Informações da Cidade de Sousa-PB',\n",
    "                style={'font-weight':'bold',}\n",
    "            ),\n",
    "\n",
    "            html.H4('Dados de 1983 até 2018')\n",
    "        ],\n",
    "        style={\n",
    "            'textAlign':'center',\n",
    "            'font-weight':'bold',\n",
    "            'border': '2px solid lightgreen',\n",
    "            'box-shadow': '0 4px 8px 0 rgba(0, 0, 0, 0.2), 0 6px 20px 0 rgba(0, 0, 0, 0.19)',\n",
    "            'background-color':'#8FBC8F',\n",
    "            }\n",
    "    )\n",
    "\n",
    "# criando o rodapé para facilitar na construção do layout\n",
    "def div_base():\n",
    "    return html.Div(\n",
    "        children=[\n",
    "            dcc.Markdown(''' ### **Sousa, Paraíba - 2020**'''),\n",
    "\n",
    "            dcc.Markdown('''#### Site: [Cidade Sousa](https://www.sousa.pb.gov.br/)''')\n",
    "        ],\n",
    "        style={\n",
    "            'textAlign':'center',\n",
    "            'font-weight':'bold',\n",
    "            'border': '2px solid lightgreen',\n",
    "            'box-shadow': '0 4px 8px 0 rgba(0, 0, 0, 0.2), 0 6px 20px 0 rgba(0, 0, 0, 0.19)',\n",
    "            'background-color':'#8FBC8F',\n",
    "            }\n",
    "    )"
   ]
  },
  {
   "cell_type": "code",
   "execution_count": null,
   "metadata": {},
   "outputs": [],
   "source": [
    "external_stylesheets = ['https://codepen.io/chriddyp/pen/bWLwgP.css']\n",
    "\n",
    "app = dash.Dash(\n",
    "    __name__,\n",
    "    external_stylesheets=external_stylesheets\n",
    ")\n",
    "\n",
    "df = gera_dados_selec(pd.read_csv('sousa_geral_anual.csv'))\n",
    "\n",
    "colunas = list(df.columns)"
   ]
  },
  {
   "cell_type": "code",
   "execution_count": null,
   "metadata": {},
   "outputs": [],
   "source": [
    "app.layout = html.Div(\n",
    "    [\n",
    "        div_topo(),\n",
    "\n",
    "        html.H4(\n",
    "            ['Selecione os Dados:'],\n",
    "            style={\n",
    "                'textAlign':'justify',\n",
    "                'text-indent': '50px',\n",
    "                'line-height': '3'\n",
    "                }\n",
    "        ),\n",
    "\n",
    "        # parte central do layout\n",
    "        html.Div(\n",
    "            [\n",
    "                # bloco esquerdo da parte central do layout\n",
    "                html.Div(\n",
    "                    [\n",
    "                        dcc.Dropdown(\n",
    "                            # nome do componente\n",
    "                            id='columns',\n",
    "                            # lista de opções\n",
    "                            options=[\n",
    "                                {\n",
    "                                    'label': i,\n",
    "                                    'value': i\n",
    "                                }\n",
    "                                for i in colunas[1:]\n",
    "                            ],\n",
    "                            value='Precipitação Média'\n",
    "                        ),\n",
    "\n",
    "                        html.Hr(),\n",
    "\n",
    "                        dcc.Graph(\n",
    "                            id='indicator-graphic',\n",
    "                            style={'border': '2px solid lightgreen','background-color':'#ADD8E6'}\n",
    "                        ),\n",
    "                    ],\n",
    "                    style={'margin-left': '15px','width':'48%', 'display':'inline-block'}\n",
    "                ),\n",
    "\n",
    "                # bloco direito da parte central do layout\n",
    "                html.Div(\n",
    "                    [\n",
    "                        gera_tabela(df),\n",
    "                    ],\n",
    "                    style={'margin-right': '15px','width':'48%', 'float': 'right', 'display':'inline-block'}\n",
    "                )\n",
    "            ]\n",
    "        ),\n",
    "\n",
    "        html.Hr(),\n",
    "\n",
    "        div_base()\n",
    "\n",
    "    ],\n",
    "    style={\n",
    "        'border': '2px solid lightgreen'\n",
    "        ,'box-shadow': '0 4px 8px 0 rgba(0, 0, 0, 0.2), 0 6px 20px 0 rgba(0, 0, 0, 0.19)'\n",
    "        ,'background-color':'#90EE90'\n",
    "    }\n",
    ")"
   ]
  },
  {
   "cell_type": "code",
   "execution_count": null,
   "metadata": {},
   "outputs": [],
   "source": [
    "@app.callback(\n",
    "    Output('indicator-graphic','figure'),\n",
    "    [\n",
    "        Input('columns','value'),\n",
    "    ]\n",
    ")\n",
    "def update_graph(coluna):\n",
    "\n",
    "    return{\n",
    "        # dados (uma chave contendum dicionário com informações do gráfico)\n",
    "        'data':[\n",
    "            dict(\n",
    "                x=df['Tempo'],\n",
    "                y=df[str(coluna)],\n",
    "                mode='lines+markers',\n",
    "                text=str(coluna),\n",
    "                opacity=0.8\n",
    "            )\n",
    "        ],\n",
    "        'layout': dict(\n",
    "            xaxis={\n",
    "                'title':'Anual',\n",
    "                'type':'date',\n",
    "                'rangeslider': 'dict(visible=True)'\n",
    "            },\n",
    "            yaxis={\n",
    "                'title':coluna,\n",
    "                'type':'linear'\n",
    "            },\n",
    "            margin={'l': 100, 'b': 40, 't': 40, 'r': 100},\n",
    "            legend={'x': 0, 'y': 1},\n",
    "            hovermode='closest'\n",
    "        )\n",
    "    }"
   ]
  },
  {
   "cell_type": "code",
   "execution_count": null,
   "metadata": {},
   "outputs": [],
   "source": [
    "if __name__ == '__main__':\n",
    "    app.run_server(debug=True)"
   ]
  },
  {
   "source": [
    "![teste](images/rodape_no_github.jpg)"
   ],
   "cell_type": "markdown",
   "metadata": {}
  },
  {
   "cell_type": "code",
   "execution_count": null,
   "metadata": {},
   "outputs": [],
   "source": []
  }
 ],
 "metadata": {
  "colab": {
   "name": "Dash Python.ipynb",
   "provenance": []
  },
  "kernelspec": {
   "display_name": "Python 3",
   "language": "python",
   "name": "python3"
  },
  "language_info": {
   "codemirror_mode": {
    "name": "ipython",
    "version": 3
   },
   "file_extension": ".py",
   "mimetype": "text/x-python",
   "name": "python",
   "nbconvert_exporter": "python",
   "pygments_lexer": "ipython3",
   "version": "3.8.3-final"
  }
 },
 "nbformat": 4,
 "nbformat_minor": 1
}